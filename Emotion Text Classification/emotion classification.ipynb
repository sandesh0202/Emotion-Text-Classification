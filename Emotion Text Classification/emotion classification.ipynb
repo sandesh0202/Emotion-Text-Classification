{
 "cells": [
  {
   "cell_type": "code",
   "execution_count": 34,
   "metadata": {},
   "outputs": [],
   "source": [
    "import re\n",
    "import pickle\n",
    "import pandas as pd\n",
    "from sklearn.model_selection import train_test_split\n",
    "from gensim.parsing.preprocessing import remove_stopwords\n",
    "from sklearn.feature_extraction.text import TfidfVectorizer\n",
    "from sklearn.metrics import accuracy_score, classification_report\n",
    "from xgboost import XGBClassifier"
   ]
  },
  {
   "cell_type": "code",
   "execution_count": 23,
   "metadata": {},
   "outputs": [
    {
     "name": "stdout",
     "output_type": "stream",
     "text": [
      "(416809, 3)\n"
     ]
    }
   ],
   "source": [
    "data = pd.read_csv(\"C:/Programs/Emotion Text Classification/text.csv\")\n",
    "\n",
    "print(data.shape)"
   ]
  },
  {
   "cell_type": "code",
   "execution_count": 24,
   "metadata": {},
   "outputs": [
    {
     "name": "stdout",
     "output_type": "stream",
     "text": [
      "im becoming cynical in my old age my birthdays in two days and im feeling aggravated by circumstances\n",
      "im cynical old age birthdays days im feeling aggravated circumstances\n"
     ]
    }
   ],
   "source": [
    "print(data['text'][204])\n",
    "\n",
    "filtered_text = remove_stopwords(data['text'][204])\n",
    "print(filtered_text)"
   ]
  },
  {
   "cell_type": "code",
   "execution_count": 25,
   "metadata": {},
   "outputs": [],
   "source": [
    "def remove_punctuation(sentence):\n",
    "    pure_text = re.sub(r'(\\s)?@\\w+', r'\\1', sentence)\n",
    "    pure_text = re.sub(r'[^\\w\\s]', '', pure_text)\n",
    "    pure_text = re.sub(r'\\b.*com\\b', '', pure_text)\n",
    "    pure_text = re.sub(r'\\bhttp\\w+', '', pure_text)\n",
    "    pure_text = pure_text.replace(\"  \", \" \")\n",
    "    pure_text = pure_text.lower()\n",
    "    \n",
    "    return pure_text"
   ]
  },
  {
   "cell_type": "code",
   "execution_count": 26,
   "metadata": {},
   "outputs": [],
   "source": [
    "\n",
    "def preprocess(text):    \n",
    "    text = remove_punctuation(text)\n",
    "    \n",
    "    text = remove_stopwords(text)\n",
    "    \n",
    "    return text\n"
   ]
  },
  {
   "cell_type": "code",
   "execution_count": 27,
   "metadata": {},
   "outputs": [
    {
     "name": "stdout",
     "output_type": "stream",
     "text": [
      "i m writing about myself now but when i look at them here i feel wonderfully privileged to have known so many like and unlike myself in such extreme situations\n",
      "m writing look feel wonderfully privileged known like unlike extreme situations\n"
     ]
    }
   ],
   "source": [
    "print(data['text'][200])\n",
    "print(preprocess(data['text'][200]))"
   ]
  },
  {
   "cell_type": "code",
   "execution_count": 28,
   "metadata": {},
   "outputs": [],
   "source": [
    "data = data[['text', 'label']]"
   ]
  },
  {
   "cell_type": "code",
   "execution_count": 29,
   "metadata": {},
   "outputs": [],
   "source": [
    "data['preprocessed_text'] = data['text'].apply(lambda a: preprocess(a))"
   ]
  },
  {
   "cell_type": "code",
   "execution_count": 30,
   "metadata": {},
   "outputs": [
    {
     "data": {
      "text/html": [
       "<div>\n",
       "<style scoped>\n",
       "    .dataframe tbody tr th:only-of-type {\n",
       "        vertical-align: middle;\n",
       "    }\n",
       "\n",
       "    .dataframe tbody tr th {\n",
       "        vertical-align: top;\n",
       "    }\n",
       "\n",
       "    .dataframe thead th {\n",
       "        text-align: right;\n",
       "    }\n",
       "</style>\n",
       "<table border=\"1\" class=\"dataframe\">\n",
       "  <thead>\n",
       "    <tr style=\"text-align: right;\">\n",
       "      <th></th>\n",
       "      <th>text</th>\n",
       "      <th>label</th>\n",
       "      <th>preprocessed_text</th>\n",
       "    </tr>\n",
       "  </thead>\n",
       "  <tbody>\n",
       "    <tr>\n",
       "      <th>0</th>\n",
       "      <td>i just feel really helpless and heavy hearted</td>\n",
       "      <td>4</td>\n",
       "      <td>feel helpless heavy hearted</td>\n",
       "    </tr>\n",
       "    <tr>\n",
       "      <th>1</th>\n",
       "      <td>ive enjoyed being able to slouch about relax a...</td>\n",
       "      <td>0</td>\n",
       "      <td>ive enjoyed able slouch relax unwind frankly n...</td>\n",
       "    </tr>\n",
       "    <tr>\n",
       "      <th>2</th>\n",
       "      <td>i gave up my internship with the dmrg and am f...</td>\n",
       "      <td>4</td>\n",
       "      <td>gave internship dmrg feeling distraught</td>\n",
       "    </tr>\n",
       "    <tr>\n",
       "      <th>3</th>\n",
       "      <td>i dont know i feel so lost</td>\n",
       "      <td>0</td>\n",
       "      <td>dont know feel lost</td>\n",
       "    </tr>\n",
       "    <tr>\n",
       "      <th>4</th>\n",
       "      <td>i am a kindergarten teacher and i am thoroughl...</td>\n",
       "      <td>4</td>\n",
       "      <td>kindergarten teacher thoroughly weary job havi...</td>\n",
       "    </tr>\n",
       "  </tbody>\n",
       "</table>\n",
       "</div>"
      ],
      "text/plain": [
       "                                                text  label  \\\n",
       "0      i just feel really helpless and heavy hearted      4   \n",
       "1  ive enjoyed being able to slouch about relax a...      0   \n",
       "2  i gave up my internship with the dmrg and am f...      4   \n",
       "3                         i dont know i feel so lost      0   \n",
       "4  i am a kindergarten teacher and i am thoroughl...      4   \n",
       "\n",
       "                                   preprocessed_text  \n",
       "0                        feel helpless heavy hearted  \n",
       "1  ive enjoyed able slouch relax unwind frankly n...  \n",
       "2            gave internship dmrg feeling distraught  \n",
       "3                                dont know feel lost  \n",
       "4  kindergarten teacher thoroughly weary job havi...  "
      ]
     },
     "execution_count": 30,
     "metadata": {},
     "output_type": "execute_result"
    }
   ],
   "source": [
    "data.head()"
   ]
  },
  {
   "cell_type": "code",
   "execution_count": 31,
   "metadata": {},
   "outputs": [],
   "source": [
    "vectorizer = TfidfVectorizer()\n",
    "X = vectorizer.fit_transform(data['preprocessed_text'])"
   ]
  },
  {
   "cell_type": "code",
   "execution_count": 32,
   "metadata": {},
   "outputs": [],
   "source": [
    "y = data['label']\n",
    "\n",
    "X_train, X_test, y_train, y_test = train_test_split(\n",
    "     X, y, test_size=0.25, random_state=42)"
   ]
  },
  {
   "cell_type": "code",
   "execution_count": 33,
   "metadata": {},
   "outputs": [
    {
     "data": {
      "text/plain": [
       "319162    0\n",
       "160826    1\n",
       "280557    0\n",
       "332236    0\n",
       "206056    1\n",
       "         ..\n",
       "259178    2\n",
       "365838    1\n",
       "131932    3\n",
       "146867    1\n",
       "121958    4\n",
       "Name: label, Length: 312606, dtype: int64"
      ]
     },
     "execution_count": 33,
     "metadata": {},
     "output_type": "execute_result"
    }
   ],
   "source": [
    "y_train"
   ]
  },
  {
   "cell_type": "code",
   "execution_count": 38,
   "metadata": {},
   "outputs": [
    {
     "name": "stdout",
     "output_type": "stream",
     "text": [
      "Accuracy is 0.8899647802846368\n",
      "              precision    recall  f1-score   support\n",
      "\n",
      "           0       0.94      0.92      0.93     30217\n",
      "           1       0.92      0.89      0.90     35235\n",
      "           2       0.74      0.91      0.82      8608\n",
      "           3       0.92      0.88      0.90     14349\n",
      "           4       0.89      0.81      0.85     11996\n",
      "           5       0.68      0.90      0.78      3798\n",
      "\n",
      "    accuracy                           0.89    104203\n",
      "   macro avg       0.85      0.89      0.86    104203\n",
      "weighted avg       0.90      0.89      0.89    104203\n",
      "\n"
     ]
    }
   ],
   "source": [
    "#xgb = XGBClassifier()\n",
    "#xgb.fit(X_train, y_train)\n",
    "\n",
    "#pickle.dump(xgb, open('xgb_model.pkl', 'wb'))\n",
    "\n",
    "xgb = pickle.load(open('xgb_model.pkl', 'rb'))\n",
    "\n",
    "xgb_pred = xgb.predict(X_test)\n",
    "accuracy = accuracy_score(y_test, xgb_pred)\n",
    "\n",
    "print(f\"Accuracy is {accuracy}\")\n",
    "\n",
    "class_report = classification_report(y_test, xgb_pred)\n",
    "print(class_report)"
   ]
  },
  {
   "cell_type": "code",
   "execution_count": 20,
   "metadata": {},
   "outputs": [],
   "source": []
  },
  {
   "cell_type": "code",
   "execution_count": 36,
   "metadata": {},
   "outputs": [],
   "source": [
    "emotions = {0: \"sadness\", 1: \"joy\", 2: \"love\", 3: \"anger\", 4: \"fear\", 5: \"surprise\"}\n",
    "# sadness (0), joy (1), love (2), anger (3), fear (4), and surprise (5)"
   ]
  },
  {
   "cell_type": "code",
   "execution_count": 41,
   "metadata": {},
   "outputs": [
    {
     "data": {
      "text/plain": [
       "'joy'"
      ]
     },
     "execution_count": 41,
     "metadata": {},
     "output_type": "execute_result"
    }
   ],
   "source": [
    "new_sentence =[ \"Congrats\"]\n",
    "vectorized = vectorizer.transform(new_sentence)\n",
    "\n",
    "output = xgb.predict(vectorized)\n",
    "emotions[output[0]]"
   ]
  },
  {
   "cell_type": "code",
   "execution_count": null,
   "metadata": {},
   "outputs": [],
   "source": []
  },
  {
   "cell_type": "code",
   "execution_count": null,
   "metadata": {},
   "outputs": [],
   "source": []
  },
  {
   "cell_type": "code",
   "execution_count": null,
   "metadata": {},
   "outputs": [],
   "source": []
  },
  {
   "cell_type": "code",
   "execution_count": null,
   "metadata": {},
   "outputs": [],
   "source": []
  }
 ],
 "metadata": {
  "kernelspec": {
   "display_name": "base",
   "language": "python",
   "name": "python3"
  },
  "language_info": {
   "codemirror_mode": {
    "name": "ipython",
    "version": 3
   },
   "file_extension": ".py",
   "mimetype": "text/x-python",
   "name": "python",
   "nbconvert_exporter": "python",
   "pygments_lexer": "ipython3",
   "version": "3.8.8"
  }
 },
 "nbformat": 4,
 "nbformat_minor": 2
}
